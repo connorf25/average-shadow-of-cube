{
 "cells": [
  {
   "cell_type": "code",
   "execution_count": 1,
   "metadata": {},
   "outputs": [],
   "source": [
    "# Numpy for array\n",
    "import numpy as np\n",
    "# Pyplot for plotting\n",
    "import matplotlib.pyplot as plt\n",
    "# Scipy for convex hull (perimiter of points)\n",
    "from scipy.spatial import ConvexHull, convex_hull_plot_2d"
   ]
  },
  {
   "cell_type": "code",
   "execution_count": 2,
   "metadata": {},
   "outputs": [],
   "source": [
    "# Map each point to 2d space (return only x and y axis)\n",
    "def map_two_d(points):\n",
    "    return points[:, :2]"
   ]
  },
  {
   "cell_type": "code",
   "execution_count": 3,
   "metadata": {},
   "outputs": [],
   "source": [
    "# Function to plot the projection of the points\n",
    "def plot_projection(points):\n",
    "    projection = map_two_d(points)\n",
    "    plt.plot(projection[:, 0], projection[:, 1],'o', color='black')"
   ]
  },
  {
   "cell_type": "code",
   "execution_count": 4,
   "metadata": {},
   "outputs": [],
   "source": [
    "# Function to calculate convex hull and plot\n",
    "def plot_hull(points):\n",
    "    projection = map_two_d(points)\n",
    "    hull = ConvexHull(projection)\n",
    "    convex_hull_plot_2d(hull)\n",
    "    plt.show()"
   ]
  },
  {
   "cell_type": "code",
   "execution_count": 5,
   "metadata": {},
   "outputs": [],
   "source": [
    "# Calculate the area of the hull (shadow) given the cubes points\n",
    "def area_hull(points):\n",
    "    projection = map_two_d(points)\n",
    "    hull = ConvexHull(projection)\n",
    "    return hull.area"
   ]
  },
  {
   "cell_type": "code",
   "execution_count": 6,
   "metadata": {},
   "outputs": [],
   "source": [
    "# Points which specify the 3d cube [x, y, z]\n",
    "cube_points = np.array([\n",
    "    [1, 1, 1],\n",
    "    [1, 1, -1],\n",
    "    [1, -1, 1],\n",
    "    [-1, 1, 1],\n",
    "    [-1, -1, -1],\n",
    "    [-1, -1, 1],\n",
    "    [-1, 1, -1],\n",
    "    [1, -1, -1]\n",
    "])"
   ]
  },
  {
   "cell_type": "code",
   "execution_count": 7,
   "metadata": {},
   "outputs": [
    {
     "data": {
      "image/png": "[encoded data removed]",
      "text/plain": [
       "<Figure size 432x288 with 1 Axes>"
      ]
     },
     "metadata": {},
     "output_type": "display_data"
    }
   ],
   "source": [
    "# Plot basic cube\n",
    "plot_projection(cube_points)"
   ]
  },
  {
   "cell_type": "code",
   "execution_count": 8,
   "metadata": {},
   "outputs": [
    {
     "data": {
      "image/png": "[encoded data removed]",
      "text/plain": [
       "<Figure size 432x288 with 1 Axes>"
      ]
     },
     "metadata": {},
     "output_type": "display_data"
    }
   ],
   "source": [
    "# Calculate convex hull\n",
    "plot_hull(cube_points)"
   ]
  },
  {
   "cell_type": "code",
   "execution_count": 10,
   "metadata": {},
   "outputs": [
    {
     "name": "stdout",
     "output_type": "stream",
     "text": [
      "8.0\n"
     ]
    }
   ],
   "source": [
    "# Area of convex hull\n",
    "print(area_hull(cube_points))"
   ]
  }
 ],
 "metadata": {
  "kernelspec": {
   "display_name": "Python 3",
   "language": "python",
   "name": "python3"
  },
  "language_info": {
   "codemirror_mode": {
    "name": "ipython",
    "version": 3
   },
   "file_extension": ".py",
   "mimetype": "text/x-python",
   "name": "python",
   "nbconvert_exporter": "python",
   "pygments_lexer": "ipython3",
   "version": "3.6.5"
  }
 },
 "nbformat": 4,
 "nbformat_minor": 2
}
